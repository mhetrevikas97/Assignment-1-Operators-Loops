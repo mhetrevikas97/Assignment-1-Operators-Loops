{
 "cells": [
  {
   "cell_type": "code",
   "execution_count": 1,
   "id": "a5dfb083-c564-4e4f-a4d9-7fe6192cc914",
   "metadata": {},
   "outputs": [
    {
     "name": "stdout",
     "output_type": "stream",
     "text": [
      "no of even numbers : 4\n",
      "no of odd numbers  : 5\n"
     ]
    }
   ],
   "source": [
    "L1 =(1, 2, 3, 4, 5, 6, 7, 8, 9) \n",
    "a = 0\n",
    "b = 0\n",
    "\n",
    "for i in L1:\n",
    "    if i%2==0:\n",
    "        a+=1\n",
    "    else:\n",
    "        b+=1\n",
    "print('no of even numbers :', a)\n",
    "print('no of odd numbers  :', b)\n",
    "    \n"
   ]
  },
  {
   "cell_type": "code",
   "execution_count": null,
   "id": "73073d20-9be2-4da4-b539-b277ef8511a9",
   "metadata": {},
   "outputs": [],
   "source": []
  }
 ],
 "metadata": {
  "kernelspec": {
   "display_name": "Python 3 (ipykernel)",
   "language": "python",
   "name": "python3"
  },
  "language_info": {
   "codemirror_mode": {
    "name": "ipython",
    "version": 3
   },
   "file_extension": ".py",
   "mimetype": "text/x-python",
   "name": "python",
   "nbconvert_exporter": "python",
   "pygments_lexer": "ipython3",
   "version": "3.10.1"
  }
 },
 "nbformat": 4,
 "nbformat_minor": 5
}
